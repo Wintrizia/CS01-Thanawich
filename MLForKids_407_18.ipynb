{
  "nbformat": 4,
  "nbformat_minor": 0,
  "metadata": {
    "colab": {
      "provenance": [],
      "authorship_tag": "ABX9TyM9sCYFwY6+U6udb6BWOt6x",
      "include_colab_link": true
    },
    "kernelspec": {
      "name": "python3",
      "display_name": "Python 3"
    },
    "language_info": {
      "name": "python"
    }
  },
  "cells": [
    {
      "cell_type": "markdown",
      "metadata": {
        "id": "view-in-github",
        "colab_type": "text"
      },
      "source": [
        "<a href=\"https://colab.research.google.com/github/Wintrizia/CS01-Thanawich/blob/main/MLForKids_407_18.ipynb\" target=\"_parent\"><img src=\"https://colab.research.google.com/assets/colab-badge.svg\" alt=\"Open In Colab\"/></a>"
      ]
    },
    {
      "cell_type": "code",
      "execution_count": 10,
      "metadata": {
        "colab": {
          "base_uri": "https://localhost:8080/"
        },
        "id": "5tI4FA3vh1Tu",
        "outputId": "5320e334-4fcd-468c-85e9-01dccca2480b"
      },
      "outputs": [
        {
          "output_type": "stream",
          "name": "stdout",
          "text": [
            "MLFORKIDS: Downloading information about your machine learning project\n",
            "MLFORKIDS: Getting your training images to use to train your machine learning model\n",
            "Found 81 images belonging to 4 classes.\n",
            "MLFORKIDS: Defining the layers to include in your neural network\n",
            "MLFORKIDS: Starting the training of your machine learning model\n",
            "MLFORKIDS: Model training complete\n",
            "1/1 [==============================] - 1s 906ms/step\n",
            "result: 'Orange' with 94% confidence\n"
          ]
        }
      ],
      "source": [
        "from mlforkids import MLforKidsImageProject\n",
        "\n",
        "# treat this key like a password and keep it secret!\n",
        "key = \"1cd16a70-2838-11ee-9cd7-b1a5dc2089dfdb7797c7-7da4-435c-803b-a6b272aa76cf\"\n",
        "\n",
        "# this will train your model and might take a little while\n",
        "myproject = MLforKidsImageProject(key)\n",
        "myproject.train_model()\n",
        "\n",
        "# CHANGE THIS to the image file you want to recognize\n",
        "demo = myproject.prediction(\"/content/Orange.jpg\")\n",
        "\n",
        "label = demo[\"class_name\"]\n",
        "confidence = demo[\"confidence\"]\n",
        "\n",
        "# CHANGE THIS to do something different with the result\n",
        "print (\"result: '%s' with %d%% confidence\" % (label, confidence))"
      ]
    }
  ]
}